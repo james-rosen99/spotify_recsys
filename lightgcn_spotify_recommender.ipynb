{
 "cells": [
  {
   "cell_type": "code",
   "execution_count": null,
   "id": "f10e9cca-91a0-4c71-b75f-5bbce385062f",
   "metadata": {},
   "outputs": [],
   "source": [
    "%conda install pytorch torchvision torchaudio pytorch-cuda=11.8 -c pytorch -c nvidia\n",
    "%conda install pyg -c pyg\n",
    "%conda install matplotlib\n",
    "# This pip install is needed due to a compatibility issue with the LinkNeighborLoader class used below\n",
    "!pip install --verbose git+https://github.com/pyg-team/pyg-lib.git"
   ]
  },
  {
   "cell_type": "code",
   "execution_count": 2,
   "id": "88260284-8238-44b9-bf32-c779de5f183f",
   "metadata": {},
   "outputs": [],
   "source": [
    "import os\n",
    "import json\n",
    "import torch\n",
    "from torch_geometric.data import Data\n",
    "import torch_geometric.transforms as T"
   ]
  },
  {
   "cell_type": "code",
   "execution_count": null,
   "id": "747aa6fc-42ff-4f0b-8950-93352fcc178e",
   "metadata": {},
   "outputs": [],
   "source": [
    "data_dir = 'spotify_million_playlist_dataset/data'\n",
    "\n",
    "playlists_set = set()\n",
    "songs_set = set()\n",
    "\n",
    "edges = []\n",
    "\n",
    "file_count = 0\n",
    "for filename in os.listdir(data_dir):\n",
    "    if filename.startswith(\"mpd.slice.\") and filename.endswith(\".json\"):\n",
    "        file_count += 1\n",
    "        with open(os.path.join(data_dir, filename), 'r') as f:\n",
    "            data = json.load(f)\n",
    "            for playlist in data['playlists']:\n",
    "                playlist_id = playlist['pid']\n",
    "                playlists_set.add(playlist_id)\n",
    "                for track in playlist['tracks']:\n",
    "                    song_id = track['track_uri']\n",
    "                    songs_set.add(song_id)\n",
    "                    edges.append((playlist_id, song_id))\n",
    "    if file_count == 10:\n",
    "        break\n",
    "\n",
    "playlist_count = len(playlists_set)\n",
    "song_id_map = {song_id: i + playlist_count for i, song_id in enumerate(songs_set)}\n",
    "edges = [(playlist_id, song_id_map[song_id]) for playlist_id, song_id in edges]\n",
    "num_nodes = playlist_count + len(songs_set)"
   ]
  },
  {
   "cell_type": "code",
   "execution_count": 4,
   "id": "0be954c9-9f3b-4e64-aeba-34f39282fb4c",
   "metadata": {},
   "outputs": [
    {
     "name": "stdout",
     "output_type": "stream",
     "text": [
      "Graph Data: Data(edge_index=[2, 1323680], num_nodes=179657)\n"
     ]
    }
   ],
   "source": [
    "edge_index = torch.tensor(edges, dtype=torch.long).t().contiguous()\n",
    "graph_data = Data(edge_index=edge_index, num_nodes=num_nodes)\n",
    "graph_data = T.ToUndirected()(graph_data)\n",
    "print(\"Graph Data:\", graph_data)"
   ]
  },
  {
   "cell_type": "code",
   "execution_count": 5,
   "id": "001e144b-658a-4dc9-81f1-e9f50170d6e0",
   "metadata": {},
   "outputs": [
    {
     "name": "stdout",
     "output_type": "stream",
     "text": [
      "Data(edge_index=[2, 926580], num_nodes=179657, edge_label=[463290], edge_label_index=[2, 463290])\n",
      "Data(edge_index=[2, 926580], num_nodes=179657, edge_label=[198552], edge_label_index=[2, 198552])\n",
      "Data(edge_index=[2, 1125132], num_nodes=179657, edge_label=[198552], edge_label_index=[2, 198552])\n"
     ]
    }
   ],
   "source": [
    "from torch_geometric.transforms import RandomLinkSplit\n",
    "\n",
    "transform = RandomLinkSplit(\n",
    "    num_val=0.15, \n",
    "    num_test=0.15,\n",
    "    is_undirected=True,\n",
    "    add_negative_train_samples=False, \n",
    "    neg_sampling_ratio=1,\n",
    "   )\n",
    "train_data, val_data, test_data = transform(graph_data)\n",
    "print(train_data)\n",
    "print(val_data)\n",
    "print(test_data)"
   ]
  },
  {
   "cell_type": "code",
   "execution_count": null,
   "id": "daaddda7-3b79-48ea-8734-752ead0dca0f",
   "metadata": {},
   "outputs": [],
   "source": [
    "from torch_geometric.loader import LinkNeighborLoader\n",
    "\n",
    "edge_label_index = train_data.edge_label_index\n",
    "edge_label = train_data.edge_label\n",
    "train_loader = LinkNeighborLoader(\n",
    "    data=train_data,\n",
    "    num_neighbors=[20, 10],\n",
    "    neg_sampling_ratio=1,\n",
    "    edge_label_index=edge_label_index,\n",
    "    edge_label=edge_label,\n",
    "    batch_size=128,\n",
    "    shuffle=True,\n",
    ")\n",
    "\n",
    "edge_label_index = val_data.edge_label_index\n",
    "edge_label = val_data.edge_label\n",
    "val_loader = LinkNeighborLoader(\n",
    "    data=val_data,\n",
    "    num_neighbors=[20, 10],\n",
    "    edge_label_index=edge_label_index,\n",
    "    edge_label=edge_label,\n",
    "    batch_size=128 * 3,\n",
    "    shuffle=False,\n",
    ")"
   ]
  },
  {
   "cell_type": "code",
   "execution_count": 7,
   "id": "e05f38ea-bc38-4847-a98b-7d044f607f1f",
   "metadata": {},
   "outputs": [
    {
     "name": "stdout",
     "output_type": "stream",
     "text": [
      "cuda\n"
     ]
    }
   ],
   "source": [
    "from torch_geometric.nn import LightGCN\n",
    "\n",
    "device = torch.device('cuda' if torch.cuda.is_available() else 'cpu')\n",
    "\n",
    "model = LightGCN(\n",
    "    num_nodes=graph_data.num_nodes,\n",
    "    embedding_dim=64,\n",
    "    num_layers=3,\n",
    ").to(device)\n",
    "\n",
    "optimizer = torch.optim.Adam(model.parameters(), lr=0.001)"
   ]
  },
  {
   "cell_type": "code",
   "execution_count": 8,
   "id": "2a50a50c-e2c8-41bb-8f49-dab6fa89de9f",
   "metadata": {},
   "outputs": [],
   "source": [
    "from tqdm import tqdm\n",
    "def train():\n",
    "    total_loss = total_examples = 0\n",
    "    for sampled_data in tqdm(train_loader):\n",
    "\n",
    "        sampled_data.to(device)\n",
    "\n",
    "        # CODE TO GENERATE NEGATIVE SAMPLES MANUALLY\n",
    "        # pos_edge_label_index = sampled_data.edge_label_index\n",
    "        # neg_edge_label_index = torch.stack([\n",
    "        #     pos_edge_label_index[0],\n",
    "        #     torch.randint(playlist_count, num_nodes,\n",
    "        #                   (pos_edge_label_index.size(1), ), device=device)\n",
    "        # ], dim=0)\n",
    "        # edge_label_index = torch.cat([\n",
    "        #     pos_edge_label_index,\n",
    "        #     neg_edge_label_index,\n",
    "        # ], dim=1)\n",
    "\n",
    "        optimizer.zero_grad()\n",
    "            \n",
    "        pos_pred, neg_pred = model(sampled_data.edge_index, sampled_data.edge_label_index).chunk(2)\n",
    "        loss = model.recommendation_loss(\n",
    "            pos_pred,\n",
    "            neg_pred,\n",
    "            node_id=sampled_data.edge_label_index.unique(),\n",
    "        )\n",
    "        loss.backward()\n",
    "        optimizer.step()\n",
    "        total_loss += float(loss) * pos_pred.numel()\n",
    "        total_examples += pos_pred.numel()\n",
    "\n",
    "    return total_loss / total_examples"
   ]
  },
  {
   "cell_type": "code",
   "execution_count": 9,
   "id": "51faf37a-8d1f-47b1-9afd-9c58776fbfbe",
   "metadata": {},
   "outputs": [],
   "source": [
    "from sklearn.metrics import roc_auc_score\n",
    "\n",
    "def test():\n",
    "    preds = []\n",
    "    ground_truths = []\n",
    "    recs = []\n",
    "    for sampled_data in tqdm(val_loader):\n",
    "        \n",
    "        with torch.no_grad():\n",
    "            sampled_data.to(device)\n",
    "            preds.append(model(sampled_data.edge_index, sampled_data.edge_label_index))\n",
    "            ground_truths.append(sampled_data.edge_label)\n",
    "\n",
    "    pred = torch.cat(preds, dim=0).cpu().numpy()\n",
    "    ground_truth = torch.cat(ground_truths, dim=0).cpu().numpy()\n",
    "    auc = roc_auc_score(ground_truth, pred)\n",
    "    print(f\"Validation AUC: {auc:.4f}\")\n",
    "    return auc"
   ]
  },
  {
   "cell_type": "code",
   "execution_count": null,
   "id": "c8a6391f-65ca-4a5b-b5c8-bbbbc181a300",
   "metadata": {},
   "outputs": [],
   "source": [
    "epochs = 10\n",
    "\n",
    "train_losses = []\n",
    "val_auc_scores = []\n",
    "\n",
    "for epoch in range(epochs):\n",
    "    train_loss = train()\n",
    "    train_losses.append((epoch, train_loss))\n",
    "\n",
    "    # For if training for longer than 10 epochs, which I would like to eventually do\n",
    "    if epoch in range(11) or epoch % 5 == 0:\n",
    "        val_auc_score = test()\n",
    "        val_auc_scores.append((epoch, val_auc_score))\n",
    "        print(f\"Epoch {epoch}: train loss={train_loss}, val_auc={val_auc_score}\")\n",
    "    else:\n",
    "        print(f\"Epoch {epoch}: train loss={train_loss}\")"
   ]
  },
  {
   "cell_type": "code",
   "execution_count": null,
   "id": "70d1f57b-6914-48a1-9be1-ffa9c6590053",
   "metadata": {},
   "outputs": [],
   "source": [
    "edge_label_index = test_data.edge_label_index\n",
    "edge_label = test_data.edge_label\n",
    "test_loader = LinkNeighborLoader(\n",
    "    data=test_data,\n",
    "    num_neighbors=[20, 10],\n",
    "    edge_label_index=edge_label_index,\n",
    "    edge_label=edge_label,\n",
    "    batch_size=128 * 3,\n",
    "    shuffle=False,\n",
    ")"
   ]
  },
  {
   "cell_type": "code",
   "execution_count": null,
   "id": "50494c71-e9fb-4dc4-9766-25219c20a0a6",
   "metadata": {},
   "outputs": [],
   "source": [
    "preds = []\n",
    "ground_truths = []\n",
    "recs = []\n",
    "for sampled_data in tqdm(test_loader):\n",
    "    \n",
    "    with torch.no_grad():\n",
    "        sampled_data.to(device)\n",
    "        preds.append(model(sampled_data.edge_index, sampled_data.edge_label_index))\n",
    "        ground_truths.append(sampled_data.edge_label)\n",
    "\n",
    "pred = torch.cat(preds, dim=0).cpu().numpy()\n",
    "ground_truth = torch.cat(ground_truths, dim=0).cpu().numpy()\n",
    "auc = roc_auc_score(ground_truth, pred)\n",
    "print(f\"Testing AUC: {auc:.4f}\")"
   ]
  },
  {
   "cell_type": "code",
   "execution_count": null,
   "id": "c307a366-f5b4-4bcd-a06b-f053803ad6de",
   "metadata": {},
   "outputs": [],
   "source": [
    "import matplotlib.pyplot as plt\n",
    "\n",
    "plt.plot([x[0] for x in train_losses], [x[1] for x in train_losses])\n",
    "plt.xlabel(\"Epoch\")\n",
    "plt.ylabel(\"Training loss\")\n",
    "\n",
    "plt.show()"
   ]
  },
  {
   "cell_type": "code",
   "execution_count": null,
   "id": "4b81abb1-4399-4bfd-b9a7-3cb7334e8fc3",
   "metadata": {},
   "outputs": [],
   "source": [
    "plt.plot([x[0] for x in val_auc_scores], [x[1] for x in val_auc_scores])\n",
    "plt.xlabel(\"Epoch\")\n",
    "plt.ylabel(\"Validation AUC Scores\")\n",
    "plt.show()"
   ]
  },
  {
   "cell_type": "code",
   "execution_count": null,
   "id": "b9491113-c188-4599-af9a-76dbc174be81",
   "metadata": {},
   "outputs": [],
   "source": [
    "from sklearn.decomposition import PCA\n",
    "\n",
    "embs = model.get_embedding(graph_data.edge_index.to(device)).cpu().detach().numpy()\n",
    "print(embs.shape)\n",
    "\n",
    "pca = PCA(n_components=2).fit_transform(embs)\n",
    "\n",
    "plt.figure(figsize=(10, 7))\n",
    "plt.scatter(pca[:, 0], pca[:, 1], alpha=0.5)\n",
    "plt.title('PCA of Embeddings')\n",
    "plt.xlabel('Component 1')\n",
    "plt.ylabel('Component 2')\n",
    "plt.colorbar()\n",
    "plt.show()"
   ]
  },
  {
   "cell_type": "code",
   "execution_count": null,
   "id": "e9836609-65ae-4f1b-a645-9e65a2330f5c",
   "metadata": {},
   "outputs": [],
   "source": [
    "data_dir = 'spotify_million_playlist_dataset/data'\n",
    "country_playlists = []\n",
    "rap_playlists = []\n",
    "folk_playlists = []\n",
    "metal_playlists = []\n",
    "pop_playlists = []\n",
    "rock_playlists = []\n",
    "jazz_playlists = []\n",
    "file_count = 0\n",
    "for filename in os.listdir(data_dir):\n",
    "    if filename.startswith(\"mpd.slice.\") and filename.endswith(\".json\"):\n",
    "        file_count += 1\n",
    "        with open(os.path.join(data_dir, filename), 'r') as f:\n",
    "            data = json.load(f)\n",
    "            for playlist in data['playlists']:\n",
    "                if 'country' in playlist['name'].lower():\n",
    "                    country_playlists.append(playlist['pid'])\n",
    "                    print('good')\n",
    "                if 'rap' in playlist['name'].lower():\n",
    "                    rap_playlists.append(playlist['pid'])\n",
    "                if 'folk' in playlist['name'].lower():\n",
    "                    folk_playlists.append(playlist['pid'])\n",
    "                if 'metal' in playlist['name'].lower():\n",
    "                    metal_playlists.append(playlist['pid'])\n",
    "                if 'pop' in playlist['name'].lower():\n",
    "                    pop_playlists.append(playlist['pid'])\n",
    "                if 'rock' in playlist['name'].lower():\n",
    "                    rock_playlists.append(playlist['pid'])\n",
    "                if 'jazz' in playlist['name'].lower():\n",
    "                    jazz_playlists.append(playlist['pid'])\n",
    "    if file_count == 10:\n",
    "        break"
   ]
  },
  {
   "cell_type": "code",
   "execution_count": null,
   "id": "087b24e0-e6ed-4821-b0b4-3c303bd91f8b",
   "metadata": {},
   "outputs": [],
   "source": [
    "pca = PCA(n_components=2).fit_transform(embs)\n",
    "\n",
    "plt.figure(figsize=(10, 7))\n",
    "plt.scatter(pca[:, 0], pca[:, 1], color='blue', alpha=0.5, label='All Playlists and Songs')\n",
    "\n",
    "# Replace rap_playlists with other genre to get visualisation\n",
    "plt.scatter(pca[rap_playlists, 0], pca[rap_playlists, 1], color='red', alpha=0.7, label='Raap Playlists')\n",
    "\n",
    "plt.title('Rap playlists (red)')\n",
    "plt.xlabel('PCA Component 1')\n",
    "plt.ylabel('PCA Component 2')\n",
    "plt.legend()\n",
    "plt.show()\n"
   ]
  },
  {
   "cell_type": "code",
   "execution_count": 4,
   "id": "cd47cfb8-7379-4113-8386-e24d1d8b13a2",
   "metadata": {},
   "outputs": [
    {
     "ename": "NameError",
     "evalue": "name 'PCA' is not defined",
     "output_type": "error",
     "traceback": [
      "\u001b[0;31m---------------------------------------------------------------------------\u001b[0m",
      "\u001b[0;31mNameError\u001b[0m                                 Traceback (most recent call last)",
      "Cell \u001b[0;32mIn[4], line 1\u001b[0m\n\u001b[0;32m----> 1\u001b[0m pca \u001b[38;5;241m=\u001b[39m \u001b[43mPCA\u001b[49m(n_components\u001b[38;5;241m=\u001b[39m\u001b[38;5;241m2\u001b[39m)\u001b[38;5;241m.\u001b[39mfit_transform(embs)\n",
      "\u001b[0;31mNameError\u001b[0m: name 'PCA' is not defined"
     ]
    }
   ],
   "source": [
    "em\n",
    "for filename in os.listdir(data_dir):\n",
    "    if filename.startswith(\"mpd.slice.\") and filename.endswith(\".json\"):\n",
    "        file_count += 1\n",
    "        with open(os.path.join(data_dir, filename), 'r') as f:\n",
    "            data = json.load(f)\n",
    "            for playlist in data['playlists']:\n",
    "                tracks = playlist['tracks']\n",
    "                for track in tracks:\n",
    "                    if track['artist'] = 'Eminem':\n",
    "                        song_id = track['track_uri']\n",
    "                        node = song_id_map[song_id]\n",
    "                        eminem_nodes.append(node)\n",
    "                        \n",
    "    if file_count == 10:\n",
    "        break"
   ]
  }
 ],
 "metadata": {
  "kernelspec": {
   "display_name": "Python 3 (ipykernel)",
   "language": "python",
   "name": "python3"
  },
  "language_info": {
   "codemirror_mode": {
    "name": "ipython",
    "version": 3
   },
   "file_extension": ".py",
   "mimetype": "text/x-python",
   "name": "python",
   "nbconvert_exporter": "python",
   "pygments_lexer": "ipython3",
   "version": "3.12.2"
  }
 },
 "nbformat": 4,
 "nbformat_minor": 5
}
